{
 "cells": [
  {
   "cell_type": "markdown",
   "metadata": {
    "colab_type": "text",
    "id": "view-in-github"
   },
   "source": [
    "<a href=\"https://colab.research.google.com/github/vishnu-me/IMS/blob/main/IMS.ipynb\" target=\"_parent\"><img src=\"https://colab.research.google.com/assets/colab-badge.svg\" alt=\"Open In Colab\"/></a>"
   ]
  },
  {
   "cell_type": "code",
   "execution_count": 1,
   "metadata": {
    "id": "Nx_rg3nPkoL-"
   },
   "outputs": [],
   "source": [
    "inventory = {\n",
    "    1200 : {\"item\": \"dettolhandwash\" , \"price\" : 80 , \"quantity\" : 30 , \"category\": \"handwash\" , \"rating\": 9},\n",
    "    1201 : {\"item\": \"dettolbottle\" , \"price\" : 80 , \"quantity\" : 100 , \"category\": \"medicine\" , \"rating\": 8},     \n",
    "    1202 : {\"item\": \"paracetamol\" , \"price\" : 40 , \"quantity\" : 10 , \"category\": \"medicine\", \"rating\": 7}, \n",
    "    1203 : {\"item\": \"potato\" , \"price\" : 10 , \"quantity\" : 100 , \"category\": \"vegetable\", \"rating\": 8}, \n",
    "    1204 : {\"item\": \"5star(s)\" , \"price\" : 10 , \"quantity\" : 100 , \"category\": \"chocolate\",\"rating\": 7},   \n",
    "    1205 : {\"item\": \"5star(m)\" , \"price\" : 20 , \"quantity\" : 100 , \"category\": \"chocolate\", \"rating\": 8}, \n",
    "    1206 : {\"item\": \"5star(l)\" , \"price\" : 40 , \"quantity\" : 50 , \"category\": \"chocolate\", \"rating\": 6},   \n",
    "    1207 : {\"item\": \"kitkat(s)\" , \"price\" : 10 , \"quantity\" : 300 , \"category\": \"chocolate\", \"rating\": 5},   \n",
    "    1208 : {\"item\": \"kitkat(m)\" , \"price\" : 40 , \"quantity\" : 400 , \"category\": \"chocolate\",\"rating\": 4},   \n",
    "    1209 : {\"item\": \"sneakers\" , \"price\" : 10 , \"quantity\" : 500 , \"category\": \"chocolate\",\"rating\": 10},    \n",
    "    1210 : {\"item\": \"centerfresh\" , \"price\" : 1 , \"quantity\" : 1000 , \"category\": \"toffee\", \"rating\": 9},    \n",
    "    1211 : {\"item\": \"centerfruit\" , \"price\" : 1 , \"quantity\" : 1000 , \"category\": \"toffee\",\"rating\": 8}, \n",
    "    1212 : {\"item\": \"chocobar\" , \"price\" : 10 , \"quantity\" : 200 , \"category\": \"chocolate\",\"rating\": 7},     \n",
    "    1213 : {\"item\": \"pilotpen\" , \"price\" : 100 , \"quantity\" : 100 , \"category\": \"stationary\",\"rating\": 2},      \n",
    "    1214 : {\"item\": \"apsarapencil\" , \"price\" : 5 , \"quantity\" : 200 , \"category\": \"stationary\",\"rating\": 3},     \n",
    "    1215 : {\"item\": \"fair-copy\" , \"price\" : 70 , \"quantity\" : 80 , \"category\": \"stationary\",\"rating\": 4},     \n",
    "    1216 : {\"item\": \"rough-copy\" , \"price\" : 30 , \"quantity\" : 80 , \"category\": \"stationary\",\"rating\": 5},    \n",
    "    1217 : {\"item\": \"pencil-box\" , \"price\" : 100 , \"quantity\" : 90 , \"category\": \"stationary\",\"rating\": 8},    \n",
    "    1218 : {\"item\": \"colors\" , \"price\" : 120 , \"quantity\" : 40 , \"category\": \"stationary\",\"rating\": 9},   \n",
    "    1219 : {\"item\": \"fevicol(m)\" , \"price\" : 20 , \"quantity\" : 100 , \"category\": \"stationary\",\"rating\": 8}, \n",
    "    1220 : {\"item\": \"fevicol(l)\" , \"price\" : 50 , \"quantity\" : 300 , \"category\": \"stationary\",\"rating\": 10}, \n",
    "    1221 : {\"item\": \"chocobar\" , \"price\" : 10 , \"quantity\" : 200 , \"category\": \"chocolate\",\"rating\": 7},     \n",
    "    1222 : {\"item\": \"pilotpen\" , \"price\" : 100 , \"quantity\" : 100 , \"category\": \"stationary\",\"rating\": 2},      \n",
    "    1223 : {\"item\": \"apsarapencil\" , \"price\" : 5 , \"quantity\" : 200 , \"category\": \"stationary\",\"rating\": 3},     \n",
    "    1224 : {\"item\": \"fair-copy\" , \"price\" : 70 , \"quantity\" : 80 , \"category\": \"stationary\",\"rating\": 4},     \n",
    "    1225 : {\"item\": \"rough-copy\" , \"price\" : 30 , \"quantity\" : 80 , \"category\": \"stationary\",\"rating\": 5},    \n",
    "    1226 : {\"item\": \"pencil-box\" , \"price\" : 100 , \"quantity\" : 90 , \"category\": \"stationary\",\"rating\": 8},    \n",
    "    1227 : {\"item\": \"colors\" , \"price\" : 120 , \"quantity\" : 40 , \"category\": \"stationary\",\"rating\": 9},   \n",
    "    1228 : {\"item\": \"fevicol(m)\" , \"price\" : 20 , \"quantity\" : 100 , \"category\": \"stationary\",\"rating\": 8}, \n",
    "    1229 : {\"item\": \"fevicol(l)\" , \"price\" : 50 , \"quantity\" : 300 , \"category\": \"stationary\",\"rating\": 10}\n",
    "    \n",
    "    \n",
    "} \n"
   ]
  },
  {
   "cell_type": "code",
   "execution_count": 2,
   "metadata": {
    "colab": {
     "base_uri": "https://localhost:8080/"
    },
    "id": "WRbiD-ooiT9D",
    "outputId": "c2f52fe8-c341-4f8c-8c83-509b2f912982"
   },
   "outputs": [
    {
     "name": "stdout",
     "output_type": "stream",
     "text": [
      "Enter product ID:1229\n",
      "Enter Quantity:10\n",
      "product name:  fevicol(l)\n",
      "price per unit:  50\n",
      "amount to be paid:  500\n"
     ]
    }
   ],
   "source": [
    "ui_product = int(input(\"Enter product ID:\"))\n",
    "ui_quantity = int(input(\"Enter Quantity:\"))\n",
    "\n",
    "product = inventory.get(ui_product)\n",
    "\n",
    "if product:\n",
    "  print('product name: ',product.get('item'))\n",
    "  print('price per unit: ', product.get('price'))\n",
    "  print('amount to be paid: ', ui_quantity*product.get('price'))\n",
    "  product['quantity']-=ui_quantity\n",
    "else:\n",
    "  print('product not found')\n",
    "\n",
    "\n",
    "\n",
    "\n",
    "     "
   ]
  },
  {
   "cell_type": "code",
   "execution_count": 3,
   "metadata": {
    "id": "7kmRgFrL1E5Y"
   },
   "outputs": [],
   "source": [
    "import json\n",
    "\n",
    "file = open('item.json', 'w')\n",
    "json.dump(inventory, file )\n",
    "\n",
    "#$print(json_inventory)"
   ]
  },
  {
   "cell_type": "code",
   "execution_count": null,
   "metadata": {},
   "outputs": [],
   "source": []
  }
 ],
 "metadata": {
  "colab": {
   "authorship_tag": "ABX9TyOg1ow0/rSMSl7PPvp0BKsz",
   "include_colab_link": true,
   "name": "IMS.ipynb",
   "provenance": [],
   "toc_visible": true
  },
  "kernelspec": {
   "display_name": "Python 3",
   "language": "python",
   "name": "python3"
  },
  "language_info": {
   "codemirror_mode": {
    "name": "ipython",
    "version": 3
   },
   "file_extension": ".py",
   "mimetype": "text/x-python",
   "name": "python",
   "nbconvert_exporter": "python",
   "pygments_lexer": "ipython3",
   "version": "3.8.8"
  }
 },
 "nbformat": 4,
 "nbformat_minor": 1
}
